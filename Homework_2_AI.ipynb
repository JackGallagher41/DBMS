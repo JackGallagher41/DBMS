{
  "nbformat": 4,
  "nbformat_minor": 0,
  "metadata": {
    "colab": {
      "provenance": [],
      "authorship_tag": "ABX9TyNhEn2ysF+rENzyqbpKOSvD",
      "include_colab_link": true
    },
    "kernelspec": {
      "name": "python3",
      "display_name": "Python 3"
    },
    "language_info": {
      "name": "python"
    }
  },
  "cells": [
    {
      "cell_type": "markdown",
      "metadata": {
        "id": "view-in-github",
        "colab_type": "text"
      },
      "source": [
        "<a href=\"https://colab.research.google.com/github/JackGallagher41/DBMS/blob/main/Homework_2_AI.ipynb\" target=\"_parent\"><img src=\"https://colab.research.google.com/assets/colab-badge.svg\" alt=\"Open In Colab\"/></a>"
      ]
    },
    {
      "cell_type": "markdown",
      "source": [
        "## **Jack Gallagher**"
      ],
      "metadata": {
        "id": "thkXatMYKa3P"
      }
    },
    {
      "cell_type": "markdown",
      "source": [
        "### February 1, 2024\n",
        "### Homework 2"
      ],
      "metadata": {
        "id": "6CyKg9aJKjXR"
      }
    },
    {
      "cell_type": "markdown",
      "source": [
        "# **Water Jug Puzzle**"
      ],
      "metadata": {
        "id": "v_no4cvYuCps"
      }
    },
    {
      "cell_type": "markdown",
      "source": [
        "### **Start state:**\n",
        "\n",
        "0 liter in 5 liter\n",
        "\n",
        "0 liter in 3 liter\n",
        "\n",
        "(0,0)"
      ],
      "metadata": {
        "id": "1QpIR2-QK4pP"
      }
    },
    {
      "cell_type": "markdown",
      "source": [
        "### **Goal State:**\n",
        "\n",
        "(Note:What is in 3 liters at end doesnt matter)\n",
        "\n",
        "4 liter in 5 liter\n",
        "\n",
        "? liter in 3 liter\n",
        "\n",
        "(4, ?)"
      ],
      "metadata": {
        "id": "esVqjvSOLSWG"
      }
    },
    {
      "cell_type": "markdown",
      "source": [
        "## **Rules:**\n",
        "\n",
        "\n",
        "*   You can fill 5 liter jug\n",
        "*   You can fill 3 liter jug\n",
        "*   You can empty 5 liter jug\n",
        "*   You can empty 3 liter jug\n",
        "*   You can pour 5 liter jug into 3 liter jug\n",
        "*   You can pour 3 liter jug into 5 liter jug\n",
        "\n"
      ],
      "metadata": {
        "id": "yFsXfqfkt9Xi"
      }
    },
    {
      "cell_type": "code",
      "execution_count": null,
      "metadata": {
        "id": "5s-LoybEKVYI"
      },
      "outputs": [],
      "source": [
        "class WaterJugPuzzle():\n",
        "# We model the state using two sets of strings: before pour and after pour\n",
        "  def __init__(self):\n",
        "    self.pour  = [0,0]\n",
        "\n",
        "#check for any illegle states\n",
        "  def check_overflow_large(self):\n",
        "    if (self.pour[0] > 5):\n",
        "      return True\n",
        "\n",
        "  def check_overflow_small(self):\n",
        "    if (self.pour[1] > 3):\n",
        "      return True\n",
        "\n",
        "  def check_negative_large(self):\n",
        "    if (self.pour[0] < 0):\n",
        "      return True\n",
        "\n",
        "  def check_negative_small(self):\n",
        "    if (self.pour[1] < 0):\n",
        "      return True\n",
        "\n",
        "#checks for all at once\n",
        "  def state_ok(self):\n",
        "    return not (self.check_negative_small()\n",
        "    or self.check_negative_large()\n",
        "    or self.check_overflow_small()\n",
        "    or self.check_overflow_large())\n",
        "\n",
        "#save state and undo state\n",
        "  def save_state(self):\n",
        "    self._pour = self.pour\n",
        "\n",
        "  def undo_state(self):\n",
        "    self.pour = self._pour\n",
        "\n",
        "\n",
        "#RULES:\n",
        "\n",
        "#Rule 1 Empty Large Water\n",
        "\n",
        "  def large_empty(self):\n",
        "\n",
        "    self.save_state()\n",
        "\n",
        "    self.pour[0]=0\n",
        "\n",
        "    if not (self.state_ok()):\n",
        "      self.undo_state()\n",
        "\n",
        "#Rule 2 Empty Small Water\n",
        "\n",
        "  def small_empty(self):\n",
        "\n",
        "    self.save_state()\n",
        "\n",
        "    self.pour[1]=0\n",
        "\n",
        "    if not (self.state_ok()):\n",
        "      self.undo_state()\n",
        "\n",
        "#Rule 3 Fill Large Water\n",
        "\n",
        "  def large_fill(self):\n",
        "\n",
        "    self.save_state()\n",
        "\n",
        "    self.pour[0]=5\n",
        "\n",
        "    if not (self.state_ok()):\n",
        "      self.undo_state()\n",
        "\n",
        "#Rule 4 Fill Small Water\n",
        "\n",
        "  def small_fill(self):\n",
        "\n",
        "    self.save_state()\n",
        "\n",
        "    self.pour[1]=3\n",
        "\n",
        "    if not (self.state_ok()):\n",
        "      self.undo_state()\n",
        "\n",
        "#Rule 5 Large Water poured into Small Water\n",
        "\n",
        "  def large_pour_to_small(self):\n",
        "\n",
        "    self.save_state()\n",
        "\n",
        "    difference = 3 - self.pour[1]\n",
        "\n",
        "    if (difference > self.pour[0]):\n",
        "      self.pour[1]+=self.pour[0]\n",
        "      self.pour[0]=0\n",
        "    else:\n",
        "      self.pour[0]-=difference\n",
        "      self.pour[1]=3\n",
        "\n",
        "    if not (self.state_ok()):\n",
        "      self.undo_state()\n",
        "\n",
        "#Rule 6 Small Water poured into Large Water\n",
        "\n",
        "  def small_pour_to_large(self):\n",
        "\n",
        "    self.save_state()\n",
        "\n",
        "    difference = 5 - self.pour[0]\n",
        "\n",
        "    if (difference > self.pour[1]):\n",
        "      self.pour[0]+=self.pour[1]\n",
        "      self.pour[1]=0\n",
        "    else:\n",
        "      self.pour[1]-=difference\n",
        "      self.pour[0]=5\n",
        "\n",
        "    if not (self.state_ok()):\n",
        "      self.undo_state()\n",
        "\n",
        "#Display the volume of the jugs\n",
        "\n",
        "  def print_state(self):\n",
        "    print(\"===> Larger Jug is holding {s} liters, Smaller Jug is holding {h} liters\".format(\n",
        "            s=self.pour[0], h=self.pour[1]))\n"
      ]
    },
    {
      "cell_type": "markdown",
      "source": [
        "## **Print the Answer**"
      ],
      "metadata": {
        "id": "1TxVYu2Fe6tW"
      }
    },
    {
      "cell_type": "code",
      "source": [
        "mcf = WaterJugPuzzle()\n",
        "\n",
        "# print the initial state\n",
        "mcf.print_state()\n",
        "\n",
        "#apply rules to get to goal state\n",
        "print(\"-----------------------\")\n",
        "mcf.large_fill()\n",
        "mcf.print_state()\n",
        "\n",
        "print(\"-----------------------\")\n",
        "mcf.large_pour_to_small()\n",
        "mcf.print_state()\n",
        "\n",
        "print(\"-----------------------\")\n",
        "mcf.small_empty()\n",
        "mcf.print_state()\n",
        "\n",
        "print(\"-----------------------\")\n",
        "mcf.large_pour_to_small()\n",
        "mcf.print_state()\n",
        "\n",
        "print(\"-----------------------\")\n",
        "mcf.large_fill()\n",
        "mcf.print_state()\n",
        "\n",
        "print(\"-----------------------\")\n",
        "mcf.large_pour_to_small()\n",
        "mcf.print_state()"
      ],
      "metadata": {
        "colab": {
          "base_uri": "https://localhost:8080/"
        },
        "id": "hwA9Mc0he6Iu",
        "outputId": "c185f5e8-2f79-4cea-9ed2-165248ac05ca"
      },
      "execution_count": null,
      "outputs": [
        {
          "output_type": "stream",
          "name": "stdout",
          "text": [
            "===> Larger Jug is holding 0 liters, Smaller Jug is holding 0 liters\n",
            "-----------------------\n",
            "===> Larger Jug is holding 5 liters, Smaller Jug is holding 0 liters\n",
            "-----------------------\n",
            "===> Larger Jug is holding 2 liters, Smaller Jug is holding 3 liters\n",
            "-----------------------\n",
            "===> Larger Jug is holding 2 liters, Smaller Jug is holding 0 liters\n",
            "-----------------------\n",
            "===> Larger Jug is holding 0 liters, Smaller Jug is holding 2 liters\n",
            "-----------------------\n",
            "===> Larger Jug is holding 5 liters, Smaller Jug is holding 2 liters\n",
            "-----------------------\n",
            "===> Larger Jug is holding 4 liters, Smaller Jug is holding 3 liters\n"
          ]
        }
      ]
    }
  ]
}